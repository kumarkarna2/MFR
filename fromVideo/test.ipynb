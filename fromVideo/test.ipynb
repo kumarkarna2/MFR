{
 "cells": [
  {
   "cell_type": "code",
   "execution_count": 3,
   "metadata": {},
   "outputs": [],
   "source": [
    "from mtcnn import MTCNN\n",
    "import cv2\n",
    "from PIL import Image\n",
    "import numpy as np\n",
    "import os\n",
    "import matplotlib.pyplot as plt\n",
    "from keras_facenet import FaceNet\n",
    "import warnings\n",
    "\n",
    "warnings.filterwarnings(\"ignore\")"
   ]
  },
  {
   "cell_type": "code",
   "execution_count": 14,
   "metadata": {},
   "outputs": [
    {
     "name": "stdout",
     "output_type": "stream",
     "text": [
      "WARNING:tensorflow:From m:\\fromVideo\\.venv\\Lib\\site-packages\\keras\\src\\backend\\tensorflow\\core.py:174: The name tf.placeholder is deprecated. Please use tf.compat.v1.placeholder instead.\n",
      "\n"
     ]
    }
   ],
   "source": [
    "model = FaceNet()\n",
    "detector = MTCNN()"
   ]
  },
  {
   "cell_type": "code",
   "execution_count": 5,
   "metadata": {},
   "outputs": [],
   "source": [
    "def apply_augmentations(image_array):\n",
    "    image = image_array.copy()\n",
    "\n",
    "    # Rotation (adjust angle as needed)\n",
    "    rows, cols = image.shape[:2]\n",
    "    M = cv2.getRotationMatrix2D((cols / 2, rows / 2), 20, 1)\n",
    "    image = cv2.warpAffine(image, M, (cols, rows))\n",
    "\n",
    "    # Horizontal flip with 50% probability\n",
    "    if np.random.rand() > 0.5:\n",
    "        image = cv2.flip(image, 1)\n",
    "\n",
    "    # Add more transformations here if desired\n",
    "\n",
    "    return image"
   ]
  },
  {
   "cell_type": "code",
   "execution_count": 6,
   "metadata": {},
   "outputs": [],
   "source": [
    "def extract_face(filename=None, image_pixels=None, required_size=(160, 160)):\n",
    "    if filename is not None:\n",
    "        image = Image.open(filename)\n",
    "        image = image.convert(\"RGB\")\n",
    "        pixels = np.asarray(image)\n",
    "    elif image_pixels is not None:\n",
    "        pixels = image_pixels\n",
    "    detector = detector\n",
    "    results = detector.detect_faces(pixels)\n",
    "    x1, y1, width, height = results[0][\"box\"]\n",
    "    x1, y1 = abs(x1), abs(y1)\n",
    "    x2, y2 = x1 + width, y1 + height\n",
    "    face = pixels[y1:y2, x1:x2]\n",
    "    box_dimensions = (x1, y1, width, height)\n",
    "    image = Image.fromarray(face)\n",
    "    image = image.resize(required_size)\n",
    "    face_array = np.asarray(image)\n",
    "    return face_array, box_dimensions"
   ]
  },
  {
   "cell_type": "code",
   "execution_count": 7,
   "metadata": {},
   "outputs": [],
   "source": [
    "def load_faces(directory, required_size=(160, 160)):\n",
    "    faces = []\n",
    "    for filename in os.listdir(directory):\n",
    "        path = os.path.join(directory, filename)\n",
    "        image = Image.open(path).convert(\"RGB\")\n",
    "        image_array = np.asarray(image)\n",
    "\n",
    "        face_array, _ = extract_face(image_array)\n",
    "        augmented_image = apply_augmentations(face_array)\n",
    "        augmented_image = cv2.resize(augmented_image, required_size)\n",
    "        faces.append(augmented_image)\n",
    "\n",
    "    return faces"
   ]
  },
  {
   "cell_type": "code",
   "execution_count": 8,
   "metadata": {},
   "outputs": [],
   "source": [
    "# load a dataset that contains one subdir for each class that in turn contains images\n",
    "def load_dataset(directory):\n",
    "    X, y = [], []\n",
    "    for subdir in os.listdir(directory):\n",
    "        path = os.path.join(directory, subdir)\n",
    "        if not os.path.isdir(path):\n",
    "            continue\n",
    "        faces = load_faces(path)\n",
    "        labels = [subdir for _ in range(len(faces))]\n",
    "        print(f\"Loaded {len(faces)} examples for class: {subdir}\")\n",
    "        X.extend(faces)\n",
    "        y.extend(labels)\n",
    "    return np.asarray(X), np.asarray(y)"
   ]
  },
  {
   "cell_type": "code",
   "execution_count": 16,
   "metadata": {},
   "outputs": [],
   "source": [
    "from keras_facenet import FaceNet\n",
    "\n",
    "\n",
    "def calculate_embeddings(model, faces, batch_size=32):\n",
    "    num_faces = len(faces)\n",
    "    embeddings = []\n",
    "\n",
    "    for start_idx in range(0, num_faces, batch_size):\n",
    "        end_idx = min(start_idx + batch_size, num_faces)\n",
    "        batch = faces[start_idx:end_idx]\n",
    "        batch_embeddings = model.embeddings(batch)\n",
    "        embeddings.extend(batch_embeddings)\n",
    "\n",
    "    return np.array(embeddings)"
   ]
  },
  {
   "cell_type": "code",
   "execution_count": 17,
   "metadata": {},
   "outputs": [
    {
     "ename": "AttributeError",
     "evalue": "'numpy.ndarray' object has no attribute 'read'",
     "output_type": "error",
     "traceback": [
      "\u001b[1;31m---------------------------------------------------------------------------\u001b[0m",
      "\u001b[1;31mAttributeError\u001b[0m                            Traceback (most recent call last)",
      "File \u001b[1;32mm:\\fromVideo\\.venv\\Lib\\site-packages\\PIL\\Image.py:3251\u001b[0m, in \u001b[0;36mopen\u001b[1;34m(fp, mode, formats)\u001b[0m\n\u001b[0;32m   3250\u001b[0m \u001b[38;5;28;01mtry\u001b[39;00m:\n\u001b[1;32m-> 3251\u001b[0m     \u001b[43mfp\u001b[49m\u001b[38;5;241;43m.\u001b[39;49m\u001b[43mseek\u001b[49m(\u001b[38;5;241m0\u001b[39m)\n\u001b[0;32m   3252\u001b[0m \u001b[38;5;28;01mexcept\u001b[39;00m (\u001b[38;5;167;01mAttributeError\u001b[39;00m, io\u001b[38;5;241m.\u001b[39mUnsupportedOperation):\n",
      "\u001b[1;31mAttributeError\u001b[0m: 'numpy.ndarray' object has no attribute 'seek'",
      "\nDuring handling of the above exception, another exception occurred:\n",
      "\u001b[1;31mAttributeError\u001b[0m                            Traceback (most recent call last)",
      "Cell \u001b[1;32mIn[17], line 3\u001b[0m\n\u001b[0;32m      1\u001b[0m \u001b[38;5;66;03m# Training Set\u001b[39;00m\n\u001b[0;32m      2\u001b[0m train_dataset_path \u001b[38;5;241m=\u001b[39m \u001b[38;5;124mr\u001b[39m\u001b[38;5;124m\"\u001b[39m\u001b[38;5;124mM:/14-celebrity-faces-dataset/data/train\u001b[39m\u001b[38;5;124m\"\u001b[39m\n\u001b[1;32m----> 3\u001b[0m train_faces, train_labels \u001b[38;5;241m=\u001b[39m \u001b[43mload_dataset\u001b[49m\u001b[43m(\u001b[49m\u001b[43mtrain_dataset_path\u001b[49m\u001b[43m)\u001b[49m\n\u001b[0;32m      4\u001b[0m train_embeddings \u001b[38;5;241m=\u001b[39m calculate_embeddings(model, train_faces)\n\u001b[0;32m      5\u001b[0m \u001b[38;5;66;03m# store_embeddings(train_embeddings, train_labels, \"train_embeddings.h5\")\u001b[39;00m\n\u001b[0;32m      6\u001b[0m \n\u001b[0;32m      7\u001b[0m \u001b[38;5;66;03m# Testing Set\u001b[39;00m\n",
      "Cell \u001b[1;32mIn[8], line 8\u001b[0m, in \u001b[0;36mload_dataset\u001b[1;34m(directory)\u001b[0m\n\u001b[0;32m      6\u001b[0m \u001b[38;5;28;01mif\u001b[39;00m \u001b[38;5;129;01mnot\u001b[39;00m os\u001b[38;5;241m.\u001b[39mpath\u001b[38;5;241m.\u001b[39misdir(path):\n\u001b[0;32m      7\u001b[0m     \u001b[38;5;28;01mcontinue\u001b[39;00m\n\u001b[1;32m----> 8\u001b[0m faces \u001b[38;5;241m=\u001b[39m \u001b[43mload_faces\u001b[49m\u001b[43m(\u001b[49m\u001b[43mpath\u001b[49m\u001b[43m)\u001b[49m\n\u001b[0;32m      9\u001b[0m labels \u001b[38;5;241m=\u001b[39m [subdir \u001b[38;5;28;01mfor\u001b[39;00m _ \u001b[38;5;129;01min\u001b[39;00m \u001b[38;5;28mrange\u001b[39m(\u001b[38;5;28mlen\u001b[39m(faces))]\n\u001b[0;32m     10\u001b[0m \u001b[38;5;28mprint\u001b[39m(\u001b[38;5;124mf\u001b[39m\u001b[38;5;124m\"\u001b[39m\u001b[38;5;124mLoaded \u001b[39m\u001b[38;5;132;01m{\u001b[39;00m\u001b[38;5;28mlen\u001b[39m(faces)\u001b[38;5;132;01m}\u001b[39;00m\u001b[38;5;124m examples for class: \u001b[39m\u001b[38;5;132;01m{\u001b[39;00msubdir\u001b[38;5;132;01m}\u001b[39;00m\u001b[38;5;124m\"\u001b[39m)\n",
      "Cell \u001b[1;32mIn[7], line 8\u001b[0m, in \u001b[0;36mload_faces\u001b[1;34m(directory, required_size)\u001b[0m\n\u001b[0;32m      5\u001b[0m image \u001b[38;5;241m=\u001b[39m Image\u001b[38;5;241m.\u001b[39mopen(path)\u001b[38;5;241m.\u001b[39mconvert(\u001b[38;5;124m\"\u001b[39m\u001b[38;5;124mRGB\u001b[39m\u001b[38;5;124m\"\u001b[39m)\n\u001b[0;32m      6\u001b[0m image_array \u001b[38;5;241m=\u001b[39m np\u001b[38;5;241m.\u001b[39masarray(image)\n\u001b[1;32m----> 8\u001b[0m face_array, _ \u001b[38;5;241m=\u001b[39m \u001b[43mextract_face\u001b[49m\u001b[43m(\u001b[49m\u001b[43mimage_array\u001b[49m\u001b[43m)\u001b[49m\n\u001b[0;32m      9\u001b[0m augmented_image \u001b[38;5;241m=\u001b[39m apply_augmentations(face_array)\n\u001b[0;32m     10\u001b[0m augmented_image \u001b[38;5;241m=\u001b[39m cv2\u001b[38;5;241m.\u001b[39mresize(augmented_image, required_size)\n",
      "Cell \u001b[1;32mIn[6], line 3\u001b[0m, in \u001b[0;36mextract_face\u001b[1;34m(filename, image_pixels, required_size)\u001b[0m\n\u001b[0;32m      1\u001b[0m \u001b[38;5;28;01mdef\u001b[39;00m \u001b[38;5;21mextract_face\u001b[39m(filename\u001b[38;5;241m=\u001b[39m\u001b[38;5;28;01mNone\u001b[39;00m, image_pixels\u001b[38;5;241m=\u001b[39m\u001b[38;5;28;01mNone\u001b[39;00m, required_size\u001b[38;5;241m=\u001b[39m(\u001b[38;5;241m160\u001b[39m, \u001b[38;5;241m160\u001b[39m)):\n\u001b[0;32m      2\u001b[0m     \u001b[38;5;28;01mif\u001b[39;00m filename \u001b[38;5;129;01mis\u001b[39;00m \u001b[38;5;129;01mnot\u001b[39;00m \u001b[38;5;28;01mNone\u001b[39;00m:\n\u001b[1;32m----> 3\u001b[0m         image \u001b[38;5;241m=\u001b[39m \u001b[43mImage\u001b[49m\u001b[38;5;241;43m.\u001b[39;49m\u001b[43mopen\u001b[49m\u001b[43m(\u001b[49m\u001b[43mfilename\u001b[49m\u001b[43m)\u001b[49m\n\u001b[0;32m      4\u001b[0m         image \u001b[38;5;241m=\u001b[39m image\u001b[38;5;241m.\u001b[39mconvert(\u001b[38;5;124m\"\u001b[39m\u001b[38;5;124mRGB\u001b[39m\u001b[38;5;124m\"\u001b[39m)\n\u001b[0;32m      5\u001b[0m         pixels \u001b[38;5;241m=\u001b[39m np\u001b[38;5;241m.\u001b[39masarray(image)\n",
      "File \u001b[1;32mm:\\fromVideo\\.venv\\Lib\\site-packages\\PIL\\Image.py:3253\u001b[0m, in \u001b[0;36mopen\u001b[1;34m(fp, mode, formats)\u001b[0m\n\u001b[0;32m   3251\u001b[0m     fp\u001b[38;5;241m.\u001b[39mseek(\u001b[38;5;241m0\u001b[39m)\n\u001b[0;32m   3252\u001b[0m \u001b[38;5;28;01mexcept\u001b[39;00m (\u001b[38;5;167;01mAttributeError\u001b[39;00m, io\u001b[38;5;241m.\u001b[39mUnsupportedOperation):\n\u001b[1;32m-> 3253\u001b[0m     fp \u001b[38;5;241m=\u001b[39m io\u001b[38;5;241m.\u001b[39mBytesIO(\u001b[43mfp\u001b[49m\u001b[38;5;241;43m.\u001b[39;49m\u001b[43mread\u001b[49m())\n\u001b[0;32m   3254\u001b[0m     exclusive_fp \u001b[38;5;241m=\u001b[39m \u001b[38;5;28;01mTrue\u001b[39;00m\n\u001b[0;32m   3256\u001b[0m prefix \u001b[38;5;241m=\u001b[39m fp\u001b[38;5;241m.\u001b[39mread(\u001b[38;5;241m16\u001b[39m)\n",
      "\u001b[1;31mAttributeError\u001b[0m: 'numpy.ndarray' object has no attribute 'read'"
     ]
    }
   ],
   "source": [
    "# Training Set\n",
    "train_dataset_path = r\"M:/14-celebrity-faces-dataset/data/train\"\n",
    "train_faces, train_labels = load_dataset(train_dataset_path)\n",
    "train_embeddings = calculate_embeddings(model, train_faces)\n",
    "# store_embeddings(train_embeddings, train_labels, \"train_embeddings.h5\")\n",
    "\n",
    "# Testing Set\n",
    "test_dataset_path = r\"M:/14-celebrity-faces-dataset/data/val\"\n",
    "test_faces, test_labels = load_dataset(test_dataset_path)\n",
    "test_embeddings = calculate_embeddings(model, test_faces)\n",
    "# store_embeddings(test_embeddings, test_labels, \"test_embeddings.h5\")"
   ]
  },
  {
   "cell_type": "code",
   "execution_count": 18,
   "metadata": {},
   "outputs": [],
   "source": [
    "import h5py\n",
    "\n",
    "\n",
    "def store_embeddings(embeddings, labels, filename):\n",
    "    with h5py.File(filename, \"w\") as f:\n",
    "        f.create_dataset(\"embeddings\", data=embeddings, compression=\"gzip\")\n",
    "        # Convert labels to bytes before storing\n",
    "        labels_as_bytes = [label.encode(\"utf-8\") for label in labels]\n",
    "        f.create_dataset(\"labels\", data=labels_as_bytes, compression=\"gzip\")"
   ]
  },
  {
   "cell_type": "code",
   "execution_count": 19,
   "metadata": {},
   "outputs": [
    {
     "ename": "NameError",
     "evalue": "name 'train_embeddings' is not defined",
     "output_type": "error",
     "traceback": [
      "\u001b[1;31m---------------------------------------------------------------------------\u001b[0m",
      "\u001b[1;31mNameError\u001b[0m                                 Traceback (most recent call last)",
      "Cell \u001b[1;32mIn[19], line 1\u001b[0m\n\u001b[1;32m----> 1\u001b[0m store_embeddings(\u001b[43mtrain_embeddings\u001b[49m, train_labels, \u001b[38;5;124m\"\u001b[39m\u001b[38;5;124mtrain_embeddings.h5\u001b[39m\u001b[38;5;124m\"\u001b[39m)\n\u001b[0;32m      2\u001b[0m store_embeddings(test_embeddings, test_labels, \u001b[38;5;124m\"\u001b[39m\u001b[38;5;124mtest_embeddings.h5\u001b[39m\u001b[38;5;124m\"\u001b[39m)\n",
      "\u001b[1;31mNameError\u001b[0m: name 'train_embeddings' is not defined"
     ]
    }
   ],
   "source": [
    "store_embeddings(train_embeddings, train_labels, \"train_embeddings.h5\")\n",
    "store_embeddings(test_embeddings, test_labels, \"test_embeddings.h5\")"
   ]
  }
 ],
 "metadata": {
  "kernelspec": {
   "display_name": "Python 3",
   "language": "python",
   "name": "python3"
  },
  "language_info": {
   "codemirror_mode": {
    "name": "ipython",
    "version": 3
   },
   "file_extension": ".py",
   "mimetype": "text/x-python",
   "name": "python",
   "nbconvert_exporter": "python",
   "pygments_lexer": "ipython3",
   "version": "3.12.2"
  }
 },
 "nbformat": 4,
 "nbformat_minor": 2
}
