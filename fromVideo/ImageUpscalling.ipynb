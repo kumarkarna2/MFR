{
 "cells": [
  {
   "cell_type": "code",
   "execution_count": 1,
   "metadata": {},
   "outputs": [],
   "source": [
    "import cv2\n",
    "import argparse \n",
    "import tensorflow as tf "
   ]
  },
  {
   "cell_type": "code",
   "execution_count": 5,
   "metadata": {},
   "outputs": [],
   "source": [
    "# Initialize FSRCNN model\n",
    "model = cv2.dnn_superres.DnnSuperResImpl_create()\n",
    "model.readModel(\"models/FSRCNN_x2.pb\")\n",
    "model.setModel(\"fsrcnn\", 2)  # Set scaling factor to 4x"
   ]
  },
  {
   "cell_type": "code",
   "execution_count": 6,
   "metadata": {},
   "outputs": [],
   "source": [
    "def super_resolve(image):\n",
    "    return model.upsample(image) \n",
    "\n",
    "def process_image(input_path, output_path):\n",
    "    image = cv2.imread(input_path)\n",
    "    upscaled_image = super_resolve(image)\n",
    "    cv2.imwrite(output_path, upscaled_image)\n",
    "\n",
    "def process_video(input_path, output_path):\n",
    "    cap = cv2.VideoCapture(input_path)\n",
    "    out = cv2.VideoWriter(output_path, \n",
    "                          cv2.VideoWriter_fourcc(*'mp4v'), \n",
    "                          cap.get(cv2.CAP_PROP_FPS), \n",
    "                          (int(cap.get(cv2.CAP_PROP_FRAME_WIDTH) * 2),\n",
    "                           int(cap.get(cv2.CAP_PROP_FRAME_HEIGHT) * 2)))\n",
    "\n",
    "    while True:\n",
    "        ret, frame = cap.read()\n",
    "        if not ret:\n",
    "            break\n",
    "\n",
    "        upscaled_frame = super_resolve(frame)\n",
    "        out.write(upscaled_frame)\n",
    "\n",
    "    cap.release()\n",
    "    out.release()\n",
    "\n",
    "if __name__ == '__main__':\n",
    "    # parser = argparse.ArgumentParser(...)  # Remove or comment out the argparse block\n",
    "    # args = parser.parse_args()           # Remove or comment out this line\n",
    "\n",
    "    input_path = r\"C:/Users/karna/OneDrive/Desktop/Karna Img.jpg\"  # Modify to your actual input path\n",
    "    output_path = 'Karna4x.png'     # Adjust where you want the result\n",
    "\n",
    "    if input_path.endswith(('.jpg', '.png', '.jpeg','.png')):\n",
    "        process_image(input_path, output_path)\n",
    "    else:\n",
    "        process_video(input_path, output_path)"
   ]
  },
  {
   "cell_type": "code",
   "execution_count": 7,
   "metadata": {},
   "outputs": [
    {
     "name": "stdout",
     "output_type": "stream",
     "text": [
      "Size of the image before upscaling:  (1280, 960, 3)\n",
      "Size of the image after upscaling:  (2560, 1920, 3)\n"
     ]
    }
   ],
   "source": [
    "print(\"Size of the image before upscaling: \", cv2.imread(input_path).shape)\n",
    "print(\"Size of the image after upscaling: \", cv2.imread(output_path).shape)"
   ]
  }
 ],
 "metadata": {
  "kernelspec": {
   "display_name": "Python 3",
   "language": "python",
   "name": "python3"
  },
  "language_info": {
   "codemirror_mode": {
    "name": "ipython",
    "version": 3
   },
   "file_extension": ".py",
   "mimetype": "text/x-python",
   "name": "python",
   "nbconvert_exporter": "python",
   "pygments_lexer": "ipython3",
   "version": "3.11.3"
  }
 },
 "nbformat": 4,
 "nbformat_minor": 2
}
